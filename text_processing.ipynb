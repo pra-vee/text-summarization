{
 "cells": [
  {
   "cell_type": "code",
   "execution_count": 11,
   "metadata": {},
   "outputs": [],
   "source": [
    "import requests\n",
    "from bs4 import BeautifulSoup\n",
    "\n",
    "import text_preprocessing as txt\n",
    "\n",
    "import seaborn as sns\n",
    "import matplotlib.pyplot as plt\n",
    "\n",
    "import pandas as pd\n",
    "import numpy as np\n",
    "\n",
    "import re\n",
    "import string\n",
    "import math\n",
    "import heapq\n",
    "\n",
    "from functools import reduce\n",
    "from collections import Counter\n",
    "\n",
    "np.random.seed(1234)"
   ]
  },
  {
   "cell_type": "code",
   "execution_count": 12,
   "metadata": {},
   "outputs": [],
   "source": [
    "pd.set_option('display.max_rows', 500)"
   ]
  },
  {
   "cell_type": "markdown",
   "metadata": {},
   "source": [
    "## URL Import"
   ]
  },
  {
   "cell_type": "code",
   "execution_count": 41,
   "metadata": {},
   "outputs": [],
   "source": [
    "def get_content(url):\n",
    "    try:\n",
    "        response = requests.get(url)\n",
    "        soup = BeautifulSoup(response.text, 'html.parser')\n",
    "        content = \" \".join(p.text for p in soup.find_all('p'))\n",
    "        content = re.sub('\\n+', ' ', content)\n",
    "        return content\n",
    "    except Exception as e:\n",
    "        print(e)\n",
    "        url = input(\"Enter URL again: \")\n",
    "        return get_content(url)"
   ]
  },
  {
   "cell_type": "code",
   "execution_count": 42,
   "metadata": {},
   "outputs": [
    {
     "name": "stdout",
     "output_type": "stream",
     "text": [
      "Enter URL: https://en.wikisource.org/wiki/Zuckerberg_Senate_Transcript_2018\n"
     ]
    }
   ],
   "source": [
    "url = input(\"Enter URL: \")"
   ]
  },
  {
   "cell_type": "code",
   "execution_count": 46,
   "metadata": {},
   "outputs": [],
   "source": [
    "content = get_content(url)"
   ]
  },
  {
   "cell_type": "code",
   "execution_count": 47,
   "metadata": {},
   "outputs": [],
   "source": [
    "corpus = txt.sent_tokenizer(content)\n",
    "words_in_corpus = [word for word in txt.word_tokenizer(content) if word not in txt.stops]"
   ]
  },
  {
   "cell_type": "code",
   "execution_count": 48,
   "metadata": {
    "tags": []
   },
   "outputs": [
    {
     "name": "stdout",
     "output_type": "stream",
     "text": [
      "3747\n"
     ]
    }
   ],
   "source": [
    "def is_word_present(test_word, text):\n",
    "    \"\"\"\n",
    "    Function to test if 'test_word' is present in 'text'. 'text' can be a string or list.\n",
    "    \"\"\"\n",
    "    try:\n",
    "        print(text.index(test_word))\n",
    "    except ValueError:\n",
    "        print(\"Not in text\")\n",
    "        \n",
    "is_word_present('life', words_in_corpus)"
   ]
  },
  {
   "cell_type": "markdown",
   "metadata": {},
   "source": [
    "## spaCy"
   ]
  },
  {
   "cell_type": "code",
   "execution_count": 56,
   "metadata": {},
   "outputs": [],
   "source": [
    "doc = txt.nlp(content)"
   ]
  },
  {
   "cell_type": "code",
   "execution_count": 57,
   "metadata": {
    "scrolled": false
   },
   "outputs": [
    {
     "name": "stdout",
     "output_type": "stream",
     "text": [
      "[('Transcript 2018 - Wikisource', 'PERSON'), ('Download Zuckerberg', 'PERSON'), ('2018', 'DATE'), ('Jump', 'PERSON'), ('Zuckerberg Senate', 'PERSON'), ('2018', 'DATE'), ('United States', 'ORG'), ('Senate', 'ORG'), ('2451391Zuckerberg', 'CARDINAL'), ('Senate', 'ORG'), ('Commerce', 'ORG'), ('Science and Transportation', 'ORG'), ('today', 'DATE'), ('GRASSLEY', 'ORG'), ('the Federal Trade Commission', 'ORG'), ('two', 'CARDINAL'), ('44', 'CARDINAL'), ('two', 'CARDINAL'), ('United States', 'GPE'), ('Senate', 'ORG'), ('Thune', 'PERSON'), ('Zuckerberg', 'PERSON'), ('five minutes', 'TIME'), ('today', 'DATE'), ('Thune', 'PERSON'), ('second', 'ORDINAL'), ('later in the afternoon', 'TIME'), ('the Commerce Committee', 'ORG'), ('Thune', 'PERSON'), ('JOHN THUNE', 'PERSON'), ('Grassley', 'PERSON'), ('Today', 'DATE'), ('nearly half', 'CARDINAL'), ('United States', 'GPE'), ('Senate', 'ORG'), ('More than 2 billion', 'CARDINAL'), ('1.4 billion', 'CARDINAL'), ('Earth', 'LOC'), ('China', 'GPE'), ('more than four', 'CARDINAL'), ('the United States', 'GPE'), ('more than 1,500', 'CARDINAL'), ('South Dakota', 'GPE'), ('roughly 45 percent', 'PERCENT'), ('American', 'NORP'), ('today', 'DATE'), ('Zuckerberg', 'PERSON'), ('approximately 300,000', 'CARDINAL'), ('about 87 million', 'CARDINAL'), ('Cambridge Analytica', 'ORG'), ('Cambridge Analytica', 'ORG'), ('Cambridge', 'GPE'), ('this past weekend', 'DATE'), ('2 billion', 'CARDINAL'), ('One', 'CARDINAL'), ('about nearly 300', 'CARDINAL'), ('87 million', 'CARDINAL'), ('two', 'CARDINAL'), ('third', 'ORDINAL'), ('Just last month', 'DATE'), ('Congress', 'ORG'), ('months', 'DATE'), ('Zuckerberg', 'PERSON'), ('the American Dream', 'ORG'), ('America', 'GPE'), ('GRASSLEY', 'ORG'), ('Ranking', 'PERSON'), ('Feinstein', 'PERSON'), ('Grassley', 'PERSON'), ('Thune', 'PERSON'), ('Zuckerberg', 'PERSON'), ('this afternoon', 'TIME'), ('the past few months', 'DATE'), ('millions', 'CARDINAL'), ('Americans', 'NORP'), ('February the 16th', 'DATE'), ('Counsel Mueller', 'PERSON'), ('Russia', 'GPE'), ('Internet Research Agency', 'ORG'), ('13', 'CARDINAL'), ('the United States', 'GPE'), ('37', 'CARDINAL'), ('470', 'CARDINAL'), ('Clinton', 'PERSON'), ('an estimated 157 million', 'CARDINAL'), ('Americans', 'NORP'), ('A month later', 'DATE'), ('March 17th', 'DATE'), ('Cambridge Analytica', 'ORG'), ('approximately 50 million', 'CARDINAL'), ('last week', 'DATE'), ('87 million', 'CARDINAL'), ('Kogan', 'PERSON'), ('300,000', 'CARDINAL'), ('millions', 'CARDINAL'), ('Kogan', 'PERSON'), ('Americans', 'NORP'), ('Cambridge', 'GPE'), ('$800,000 dollars', 'MONEY'), ('Analytica', 'PERSON')]\n"
     ]
    }
   ],
   "source": [
    "print([(X.text, X.label_) for X in doc.ents[:100]])"
   ]
  },
  {
   "cell_type": "code",
   "execution_count": null,
   "metadata": {},
   "outputs": [],
   "source": []
  },
  {
   "cell_type": "code",
   "execution_count": null,
   "metadata": {},
   "outputs": [],
   "source": []
  },
  {
   "cell_type": "code",
   "execution_count": null,
   "metadata": {},
   "outputs": [],
   "source": []
  },
  {
   "cell_type": "markdown",
   "metadata": {},
   "source": [
    "## Bi-Grams"
   ]
  },
  {
   "cell_type": "code",
   "execution_count": 152,
   "metadata": {},
   "outputs": [],
   "source": [
    "filtered_words = txt.word_lemmatizer(words_in_corpus)"
   ]
  },
  {
   "cell_type": "code",
   "execution_count": 153,
   "metadata": {},
   "outputs": [],
   "source": [
    "two_grams = txt.ngrams(filtered_words,2)"
   ]
  },
  {
   "cell_type": "code",
   "execution_count": 154,
   "metadata": {},
   "outputs": [],
   "source": [
    "two_gram_freq = Counter(two_grams)"
   ]
  },
  {
   "cell_type": "code",
   "execution_count": 155,
   "metadata": {},
   "outputs": [
    {
     "data": {
      "text/plain": [
       "[(('10', 'years'), 4),\n",
       " (('never', 'graduate'), 3),\n",
       " (('connect', 'dot'), 3),\n",
       " (('years', 'later'), 3),\n",
       " (('never', 'drop'), 3),\n",
       " (('would', 'never'), 3),\n",
       " (('get', 'fire'), 3),\n",
       " (('stay', 'hungry'), 3),\n",
       " (('hungry', 'stay'), 3),\n",
       " (('stay', 'foolish'), 3),\n",
       " (('commencement', 'address'), 2),\n",
       " (('steve', 'job'), 2),\n",
       " (('june', '12'), 2),\n",
       " (('12', '2005'), 2),\n",
       " (('graduate', 'college'), 2),\n",
       " (('three', 'stories'), 2),\n",
       " (('reed', 'college'), 2),\n",
       " (('biological', 'mother'), 2),\n",
       " (('college', 'graduate'), 2),\n",
       " (('go', 'college'), 2),\n",
       " (('parent', 'save'), 2),\n",
       " (('six', 'months'), 2),\n",
       " (('calligraphy', 'class'), 2),\n",
       " (('first', 'computer'), 2),\n",
       " (('personal', 'computers'), 2),\n",
       " (('dot', 'look'), 2),\n",
       " (('look', 'forward'), 2),\n",
       " (('look', 'backward'), 2),\n",
       " (('find', 'love'), 2),\n",
       " (('apple', 'grow'), 2)]"
      ]
     },
     "execution_count": 155,
     "metadata": {},
     "output_type": "execute_result"
    }
   ],
   "source": [
    "two_gram_freq.most_common(30)"
   ]
  },
  {
   "cell_type": "markdown",
   "metadata": {},
   "source": [
    "## Word Count EDA"
   ]
  },
  {
   "cell_type": "code",
   "execution_count": 62,
   "metadata": {},
   "outputs": [],
   "source": [
    "filtered_words_df = pd.DataFrame(Counter(filtered_words).items(), columns=[\"word\", 'count'])"
   ]
  },
  {
   "cell_type": "code",
   "execution_count": 63,
   "metadata": {},
   "outputs": [],
   "source": [
    "filtered_words_df[\"length\"] = filtered_words_df[\"word\"].map(len)"
   ]
  },
  {
   "cell_type": "code",
   "execution_count": 64,
   "metadata": {},
   "outputs": [],
   "source": [
    "def is_word(word):\n",
    "    return True if word in txt.corpus_words else False\n",
    "\n",
    "filtered_words_df[\"is_word\"] = filtered_words_df[\"word\"].apply(is_word)"
   ]
  },
  {
   "cell_type": "code",
   "execution_count": 65,
   "metadata": {},
   "outputs": [
    {
     "data": {
      "text/html": [
       "<div>\n",
       "<style scoped>\n",
       "    .dataframe tbody tr th:only-of-type {\n",
       "        vertical-align: middle;\n",
       "    }\n",
       "\n",
       "    .dataframe tbody tr th {\n",
       "        vertical-align: top;\n",
       "    }\n",
       "\n",
       "    .dataframe thead th {\n",
       "        text-align: right;\n",
       "    }\n",
       "</style>\n",
       "<table border=\"1\" class=\"dataframe\">\n",
       "  <thead>\n",
       "    <tr style=\"text-align: right;\">\n",
       "      <th></th>\n",
       "      <th>word</th>\n",
       "      <th>count</th>\n",
       "      <th>length</th>\n",
       "      <th>is_word</th>\n",
       "    </tr>\n",
       "  </thead>\n",
       "  <tbody>\n",
       "    <tr>\n",
       "      <th>0</th>\n",
       "      <td>zuckerberg</td>\n",
       "      <td>231</td>\n",
       "      <td>10</td>\n",
       "      <td>False</td>\n",
       "    </tr>\n",
       "    <tr>\n",
       "      <th>1</th>\n",
       "      <td>senate</td>\n",
       "      <td>11</td>\n",
       "      <td>6</td>\n",
       "      <td>True</td>\n",
       "    </tr>\n",
       "    <tr>\n",
       "      <th>2</th>\n",
       "      <td>transcript</td>\n",
       "      <td>4</td>\n",
       "      <td>10</td>\n",
       "      <td>True</td>\n",
       "    </tr>\n",
       "    <tr>\n",
       "      <th>3</th>\n",
       "      <td>2018</td>\n",
       "      <td>7</td>\n",
       "      <td>4</td>\n",
       "      <td>False</td>\n",
       "    </tr>\n",
       "    <tr>\n",
       "      <th>4</th>\n",
       "      <td>wikisource</td>\n",
       "      <td>3</td>\n",
       "      <td>10</td>\n",
       "      <td>False</td>\n",
       "    </tr>\n",
       "  </tbody>\n",
       "</table>\n",
       "</div>"
      ],
      "text/plain": [
       "         word  count  length  is_word\n",
       "0  zuckerberg    231      10    False\n",
       "1      senate     11       6     True\n",
       "2  transcript      4      10     True\n",
       "3        2018      7       4    False\n",
       "4  wikisource      3      10    False"
      ]
     },
     "execution_count": 65,
     "metadata": {},
     "output_type": "execute_result"
    }
   ],
   "source": [
    "filtered_words_df.head()"
   ]
  },
  {
   "cell_type": "code",
   "execution_count": 66,
   "metadata": {},
   "outputs": [
    {
     "data": {
      "text/html": [
       "<div>\n",
       "<style scoped>\n",
       "    .dataframe tbody tr th:only-of-type {\n",
       "        vertical-align: middle;\n",
       "    }\n",
       "\n",
       "    .dataframe tbody tr th {\n",
       "        vertical-align: top;\n",
       "    }\n",
       "\n",
       "    .dataframe thead th {\n",
       "        text-align: right;\n",
       "    }\n",
       "</style>\n",
       "<table border=\"1\" class=\"dataframe\">\n",
       "  <thead>\n",
       "    <tr style=\"text-align: right;\">\n",
       "      <th></th>\n",
       "      <th>count</th>\n",
       "      <th>length</th>\n",
       "    </tr>\n",
       "  </thead>\n",
       "  <tbody>\n",
       "    <tr>\n",
       "      <th>count</th>\n",
       "      <td>2059.000000</td>\n",
       "      <td>2059.000000</td>\n",
       "    </tr>\n",
       "    <tr>\n",
       "      <th>mean</th>\n",
       "      <td>5.449733</td>\n",
       "      <td>7.004857</td>\n",
       "    </tr>\n",
       "    <tr>\n",
       "      <th>std</th>\n",
       "      <td>14.948430</td>\n",
       "      <td>3.247332</td>\n",
       "    </tr>\n",
       "    <tr>\n",
       "      <th>min</th>\n",
       "      <td>1.000000</td>\n",
       "      <td>2.000000</td>\n",
       "    </tr>\n",
       "    <tr>\n",
       "      <th>25%</th>\n",
       "      <td>1.000000</td>\n",
       "      <td>5.000000</td>\n",
       "    </tr>\n",
       "    <tr>\n",
       "      <th>50%</th>\n",
       "      <td>2.000000</td>\n",
       "      <td>7.000000</td>\n",
       "    </tr>\n",
       "    <tr>\n",
       "      <th>75%</th>\n",
       "      <td>4.000000</td>\n",
       "      <td>9.000000</td>\n",
       "    </tr>\n",
       "    <tr>\n",
       "      <th>max</th>\n",
       "      <td>350.000000</td>\n",
       "      <td>83.000000</td>\n",
       "    </tr>\n",
       "  </tbody>\n",
       "</table>\n",
       "</div>"
      ],
      "text/plain": [
       "             count       length\n",
       "count  2059.000000  2059.000000\n",
       "mean      5.449733     7.004857\n",
       "std      14.948430     3.247332\n",
       "min       1.000000     2.000000\n",
       "25%       1.000000     5.000000\n",
       "50%       2.000000     7.000000\n",
       "75%       4.000000     9.000000\n",
       "max     350.000000    83.000000"
      ]
     },
     "execution_count": 66,
     "metadata": {},
     "output_type": "execute_result"
    }
   ],
   "source": [
    "filtered_words_df.describe()"
   ]
  },
  {
   "cell_type": "code",
   "execution_count": 67,
   "metadata": {},
   "outputs": [
    {
     "data": {
      "text/plain": [
       "<AxesSubplot:>"
      ]
     },
     "execution_count": 67,
     "metadata": {},
     "output_type": "execute_result"
    },
    {
     "data": {
      "image/png": "[encoded data removed]",
      "text/plain": [
       "<Figure size 1152x648 with 1 Axes>"
      ]
     },
     "metadata": {
      "needs_background": "light"
     },
     "output_type": "display_data"
    }
   ],
   "source": [
    "plt.figure(figsize=(16, 9))\n",
    "plt.yscale('log')\n",
    "filtered_words_df[\"count\"].hist(bins=50)"
   ]
  },
  {
   "cell_type": "code",
   "execution_count": 68,
   "metadata": {},
   "outputs": [
    {
     "data": {
      "text/plain": [
       "<AxesSubplot:>"
      ]
     },
     "execution_count": 68,
     "metadata": {},
     "output_type": "execute_result"
    },
    {
     "data": {
      "image/png": "[encoded data removed]",
      "text/plain": [
       "<Figure size 1152x648 with 1 Axes>"
      ]
     },
     "metadata": {
      "needs_background": "light"
     },
     "output_type": "display_data"
    }
   ],
   "source": [
    "plt.figure(figsize=(16, 9))\n",
    "#plt.yscale('log')\n",
    "filtered_words_df[\"length\"].hist(bins=38)"
   ]
  },
  {
   "cell_type": "code",
   "execution_count": 69,
   "metadata": {},
   "outputs": [
    {
     "data": {
      "text/plain": [
       "<AxesSubplot:ylabel='count'>"
      ]
     },
     "execution_count": 69,
     "metadata": {},
     "output_type": "execute_result"
    },
    {
     "data": {
      "image/png": "[encoded data removed]",
      "text/plain": [
       "<Figure size 108x648 with 1 Axes>"
      ]
     },
     "metadata": {
      "needs_background": "light"
     },
     "output_type": "display_data"
    }
   ],
   "source": [
    "plt.figure(figsize=(1.5, 9))\n",
    "plt.yscale('log')\n",
    "sns.violinplot(data=filtered_words_df, y=\"count\")"
   ]
  },
  {
   "cell_type": "code",
   "execution_count": 70,
   "metadata": {},
   "outputs": [
    {
     "data": {
      "text/plain": [
       "<AxesSubplot:ylabel='length'>"
      ]
     },
     "execution_count": 70,
     "metadata": {},
     "output_type": "execute_result"
    },
    {
     "data": {
      "image/png": "[encoded data removed]",
      "text/plain": [
       "<Figure size 108x648 with 1 Axes>"
      ]
     },
     "metadata": {
      "needs_background": "light"
     },
     "output_type": "display_data"
    }
   ],
   "source": [
    "plt.figure(figsize=(1.5, 9))\n",
    "#plt.yscale('log')\n",
    "sns.violinplot(data=filtered_words_df, y=\"length\")"
   ]
  },
  {
   "cell_type": "code",
   "execution_count": 71,
   "metadata": {},
   "outputs": [
    {
     "data": {
      "text/html": [
       "<div>\n",
       "<style scoped>\n",
       "    .dataframe tbody tr th:only-of-type {\n",
       "        vertical-align: middle;\n",
       "    }\n",
       "\n",
       "    .dataframe tbody tr th {\n",
       "        vertical-align: top;\n",
       "    }\n",
       "\n",
       "    .dataframe thead th {\n",
       "        text-align: right;\n",
       "    }\n",
       "</style>\n",
       "<table border=\"1\" class=\"dataframe\">\n",
       "  <thead>\n",
       "    <tr style=\"text-align: right;\">\n",
       "      <th></th>\n",
       "      <th>word</th>\n",
       "      <th>count</th>\n",
       "      <th>length</th>\n",
       "      <th>is_word</th>\n",
       "    </tr>\n",
       "  </thead>\n",
       "  <tbody>\n",
       "    <tr>\n",
       "      <th>0</th>\n",
       "      <td>zuckerberg</td>\n",
       "      <td>231</td>\n",
       "      <td>10</td>\n",
       "      <td>False</td>\n",
       "    </tr>\n",
       "    <tr>\n",
       "      <th>66</th>\n",
       "      <td>facebook</td>\n",
       "      <td>211</td>\n",
       "      <td>8</td>\n",
       "      <td>False</td>\n",
       "    </tr>\n",
       "    <tr>\n",
       "      <th>146</th>\n",
       "      <td>people</td>\n",
       "      <td>167</td>\n",
       "      <td>6</td>\n",
       "      <td>True</td>\n",
       "    </tr>\n",
       "    <tr>\n",
       "      <th>496</th>\n",
       "      <td>senator</td>\n",
       "      <td>150</td>\n",
       "      <td>7</td>\n",
       "      <td>True</td>\n",
       "    </tr>\n",
       "    <tr>\n",
       "      <th>184</th>\n",
       "      <td>information</td>\n",
       "      <td>103</td>\n",
       "      <td>11</td>\n",
       "      <td>True</td>\n",
       "    </tr>\n",
       "    <tr>\n",
       "      <th>232</th>\n",
       "      <td>service</td>\n",
       "      <td>72</td>\n",
       "      <td>7</td>\n",
       "      <td>True</td>\n",
       "    </tr>\n",
       "    <tr>\n",
       "      <th>433</th>\n",
       "      <td>content</td>\n",
       "      <td>54</td>\n",
       "      <td>7</td>\n",
       "      <td>True</td>\n",
       "    </tr>\n",
       "    <tr>\n",
       "      <th>489</th>\n",
       "      <td>control</td>\n",
       "      <td>52</td>\n",
       "      <td>7</td>\n",
       "      <td>True</td>\n",
       "    </tr>\n",
       "    <tr>\n",
       "      <th>189</th>\n",
       "      <td>company</td>\n",
       "      <td>50</td>\n",
       "      <td>7</td>\n",
       "      <td>True</td>\n",
       "    </tr>\n",
       "    <tr>\n",
       "      <th>39</th>\n",
       "      <td>privacy</td>\n",
       "      <td>50</td>\n",
       "      <td>7</td>\n",
       "      <td>True</td>\n",
       "    </tr>\n",
       "    <tr>\n",
       "      <th>190</th>\n",
       "      <td>cambridge</td>\n",
       "      <td>47</td>\n",
       "      <td>9</td>\n",
       "      <td>False</td>\n",
       "    </tr>\n",
       "    <tr>\n",
       "      <th>91</th>\n",
       "      <td>question</td>\n",
       "      <td>47</td>\n",
       "      <td>8</td>\n",
       "      <td>True</td>\n",
       "    </tr>\n",
       "    <tr>\n",
       "      <th>191</th>\n",
       "      <td>analytica</td>\n",
       "      <td>44</td>\n",
       "      <td>9</td>\n",
       "      <td>False</td>\n",
       "    </tr>\n",
       "    <tr>\n",
       "      <th>299</th>\n",
       "      <td>understand</td>\n",
       "      <td>41</td>\n",
       "      <td>10</td>\n",
       "      <td>True</td>\n",
       "    </tr>\n",
       "    <tr>\n",
       "      <th>84</th>\n",
       "      <td>chairman</td>\n",
       "      <td>38</td>\n",
       "      <td>8</td>\n",
       "      <td>True</td>\n",
       "    </tr>\n",
       "    <tr>\n",
       "      <th>446</th>\n",
       "      <td>collect</td>\n",
       "      <td>34</td>\n",
       "      <td>7</td>\n",
       "      <td>True</td>\n",
       "    </tr>\n",
       "    <tr>\n",
       "      <th>731</th>\n",
       "      <td>around</td>\n",
       "      <td>31</td>\n",
       "      <td>6</td>\n",
       "      <td>True</td>\n",
       "    </tr>\n",
       "  </tbody>\n",
       "</table>\n",
       "</div>"
      ],
      "text/plain": [
       "            word  count  length  is_word\n",
       "0     zuckerberg    231      10    False\n",
       "66      facebook    211       8    False\n",
       "146       people    167       6     True\n",
       "496      senator    150       7     True\n",
       "184  information    103      11     True\n",
       "232      service     72       7     True\n",
       "433      content     54       7     True\n",
       "489      control     52       7     True\n",
       "189      company     50       7     True\n",
       "39       privacy     50       7     True\n",
       "190    cambridge     47       9    False\n",
       "91      question     47       8     True\n",
       "191    analytica     44       9    False\n",
       "299   understand     41      10     True\n",
       "84      chairman     38       8     True\n",
       "446      collect     34       7     True\n",
       "731       around     31       6     True"
      ]
     },
     "execution_count": 71,
     "metadata": {},
     "output_type": "execute_result"
    }
   ],
   "source": [
    "filtered_words_df.loc[(filtered_words_df[\"count\"] > 30) & (filtered_words_df[\"length\"] > 5)].sort_values(by=[\"count\"], ascending=False)"
   ]
  },
  {
   "cell_type": "code",
   "execution_count": 73,
   "metadata": {},
   "outputs": [
    {
     "data": {
      "text/html": [
       "<div>\n",
       "<style scoped>\n",
       "    .dataframe tbody tr th:only-of-type {\n",
       "        vertical-align: middle;\n",
       "    }\n",
       "\n",
       "    .dataframe tbody tr th {\n",
       "        vertical-align: top;\n",
       "    }\n",
       "\n",
       "    .dataframe thead th {\n",
       "        text-align: right;\n",
       "    }\n",
       "</style>\n",
       "<table border=\"1\" class=\"dataframe\">\n",
       "  <thead>\n",
       "    <tr style=\"text-align: right;\">\n",
       "      <th></th>\n",
       "      <th>word</th>\n",
       "      <th>count</th>\n",
       "      <th>length</th>\n",
       "      <th>is_word</th>\n",
       "    </tr>\n",
       "  </thead>\n",
       "  <tbody>\n",
       "    <tr>\n",
       "      <th>0</th>\n",
       "      <td>zuckerberg</td>\n",
       "      <td>231</td>\n",
       "      <td>10</td>\n",
       "      <td>False</td>\n",
       "    </tr>\n",
       "    <tr>\n",
       "      <th>66</th>\n",
       "      <td>facebook</td>\n",
       "      <td>211</td>\n",
       "      <td>8</td>\n",
       "      <td>False</td>\n",
       "    </tr>\n",
       "    <tr>\n",
       "      <th>146</th>\n",
       "      <td>people</td>\n",
       "      <td>167</td>\n",
       "      <td>6</td>\n",
       "      <td>True</td>\n",
       "    </tr>\n",
       "    <tr>\n",
       "      <th>496</th>\n",
       "      <td>senator</td>\n",
       "      <td>150</td>\n",
       "      <td>7</td>\n",
       "      <td>True</td>\n",
       "    </tr>\n",
       "    <tr>\n",
       "      <th>42</th>\n",
       "      <td>data</td>\n",
       "      <td>126</td>\n",
       "      <td>4</td>\n",
       "      <td>True</td>\n",
       "    </tr>\n",
       "    <tr>\n",
       "      <th>684</th>\n",
       "      <td>think</td>\n",
       "      <td>107</td>\n",
       "      <td>5</td>\n",
       "      <td>True</td>\n",
       "    </tr>\n",
       "    <tr>\n",
       "      <th>184</th>\n",
       "      <td>information</td>\n",
       "      <td>103</td>\n",
       "      <td>11</td>\n",
       "      <td>True</td>\n",
       "    </tr>\n",
       "    <tr>\n",
       "      <th>106</th>\n",
       "      <td>make</td>\n",
       "      <td>96</td>\n",
       "      <td>4</td>\n",
       "      <td>True</td>\n",
       "    </tr>\n",
       "    <tr>\n",
       "      <th>40</th>\n",
       "      <td>use</td>\n",
       "      <td>89</td>\n",
       "      <td>3</td>\n",
       "      <td>True</td>\n",
       "    </tr>\n",
       "    <tr>\n",
       "      <th>341</th>\n",
       "      <td>want</td>\n",
       "      <td>87</td>\n",
       "      <td>4</td>\n",
       "      <td>True</td>\n",
       "    </tr>\n",
       "    <tr>\n",
       "      <th>232</th>\n",
       "      <td>service</td>\n",
       "      <td>72</td>\n",
       "      <td>7</td>\n",
       "      <td>True</td>\n",
       "    </tr>\n",
       "    <tr>\n",
       "      <th>601</th>\n",
       "      <td>would</td>\n",
       "      <td>71</td>\n",
       "      <td>5</td>\n",
       "      <td>True</td>\n",
       "    </tr>\n",
       "    <tr>\n",
       "      <th>169</th>\n",
       "      <td>get</td>\n",
       "      <td>70</td>\n",
       "      <td>3</td>\n",
       "      <td>True</td>\n",
       "    </tr>\n",
       "    <tr>\n",
       "      <th>134</th>\n",
       "      <td>thank</td>\n",
       "      <td>66</td>\n",
       "      <td>5</td>\n",
       "      <td>True</td>\n",
       "    </tr>\n",
       "    <tr>\n",
       "      <th>112</th>\n",
       "      <td>well</td>\n",
       "      <td>65</td>\n",
       "      <td>4</td>\n",
       "      <td>True</td>\n",
       "    </tr>\n",
       "    <tr>\n",
       "      <th>199</th>\n",
       "      <td>say</td>\n",
       "      <td>64</td>\n",
       "      <td>3</td>\n",
       "      <td>True</td>\n",
       "    </tr>\n",
       "    <tr>\n",
       "      <th>280</th>\n",
       "      <td>take</td>\n",
       "      <td>62</td>\n",
       "      <td>4</td>\n",
       "      <td>True</td>\n",
       "    </tr>\n",
       "    <tr>\n",
       "      <th>218</th>\n",
       "      <td>thats</td>\n",
       "      <td>58</td>\n",
       "      <td>5</td>\n",
       "      <td>True</td>\n",
       "    </tr>\n",
       "    <tr>\n",
       "      <th>266</th>\n",
       "      <td>dont</td>\n",
       "      <td>55</td>\n",
       "      <td>4</td>\n",
       "      <td>True</td>\n",
       "    </tr>\n",
       "    <tr>\n",
       "      <th>109</th>\n",
       "      <td>know</td>\n",
       "      <td>54</td>\n",
       "      <td>4</td>\n",
       "      <td>True</td>\n",
       "    </tr>\n",
       "    <tr>\n",
       "      <th>187</th>\n",
       "      <td>users</td>\n",
       "      <td>54</td>\n",
       "      <td>5</td>\n",
       "      <td>False</td>\n",
       "    </tr>\n",
       "    <tr>\n",
       "      <th>433</th>\n",
       "      <td>content</td>\n",
       "      <td>54</td>\n",
       "      <td>7</td>\n",
       "      <td>True</td>\n",
       "    </tr>\n",
       "    <tr>\n",
       "      <th>489</th>\n",
       "      <td>control</td>\n",
       "      <td>52</td>\n",
       "      <td>7</td>\n",
       "      <td>True</td>\n",
       "    </tr>\n",
       "    <tr>\n",
       "      <th>189</th>\n",
       "      <td>company</td>\n",
       "      <td>50</td>\n",
       "      <td>7</td>\n",
       "      <td>True</td>\n",
       "    </tr>\n",
       "    <tr>\n",
       "      <th>39</th>\n",
       "      <td>privacy</td>\n",
       "      <td>50</td>\n",
       "      <td>7</td>\n",
       "      <td>True</td>\n",
       "    </tr>\n",
       "    <tr>\n",
       "      <th>623</th>\n",
       "      <td>share</td>\n",
       "      <td>48</td>\n",
       "      <td>5</td>\n",
       "      <td>True</td>\n",
       "    </tr>\n",
       "    <tr>\n",
       "      <th>98</th>\n",
       "      <td>time</td>\n",
       "      <td>48</td>\n",
       "      <td>4</td>\n",
       "      <td>True</td>\n",
       "    </tr>\n",
       "    <tr>\n",
       "      <th>864</th>\n",
       "      <td>yes</td>\n",
       "      <td>48</td>\n",
       "      <td>3</td>\n",
       "      <td>True</td>\n",
       "    </tr>\n",
       "    <tr>\n",
       "      <th>190</th>\n",
       "      <td>cambridge</td>\n",
       "      <td>47</td>\n",
       "      <td>9</td>\n",
       "      <td>False</td>\n",
       "    </tr>\n",
       "    <tr>\n",
       "      <th>91</th>\n",
       "      <td>question</td>\n",
       "      <td>47</td>\n",
       "      <td>8</td>\n",
       "      <td>True</td>\n",
       "    </tr>\n",
       "    <tr>\n",
       "      <th>107</th>\n",
       "      <td>sure</td>\n",
       "      <td>46</td>\n",
       "      <td>4</td>\n",
       "      <td>True</td>\n",
       "    </tr>\n",
       "    <tr>\n",
       "      <th>63</th>\n",
       "      <td>like</td>\n",
       "      <td>45</td>\n",
       "      <td>4</td>\n",
       "      <td>True</td>\n",
       "    </tr>\n",
       "    <tr>\n",
       "      <th>222</th>\n",
       "      <td>one</td>\n",
       "      <td>45</td>\n",
       "      <td>3</td>\n",
       "      <td>True</td>\n",
       "    </tr>\n",
       "    <tr>\n",
       "      <th>191</th>\n",
       "      <td>analytica</td>\n",
       "      <td>44</td>\n",
       "      <td>9</td>\n",
       "      <td>False</td>\n",
       "    </tr>\n",
       "    <tr>\n",
       "      <th>311</th>\n",
       "      <td>right</td>\n",
       "      <td>42</td>\n",
       "      <td>5</td>\n",
       "      <td>True</td>\n",
       "    </tr>\n",
       "    <tr>\n",
       "      <th>299</th>\n",
       "      <td>understand</td>\n",
       "      <td>41</td>\n",
       "      <td>10</td>\n",
       "      <td>True</td>\n",
       "    </tr>\n",
       "    <tr>\n",
       "      <th>308</th>\n",
       "      <td>need</td>\n",
       "      <td>38</td>\n",
       "      <td>4</td>\n",
       "      <td>True</td>\n",
       "    </tr>\n",
       "    <tr>\n",
       "      <th>84</th>\n",
       "      <td>chairman</td>\n",
       "      <td>38</td>\n",
       "      <td>8</td>\n",
       "      <td>True</td>\n",
       "    </tr>\n",
       "    <tr>\n",
       "      <th>225</th>\n",
       "      <td>work</td>\n",
       "      <td>38</td>\n",
       "      <td>4</td>\n",
       "      <td>True</td>\n",
       "    </tr>\n",
       "    <tr>\n",
       "      <th>427</th>\n",
       "      <td>ads</td>\n",
       "      <td>36</td>\n",
       "      <td>3</td>\n",
       "      <td>False</td>\n",
       "    </tr>\n",
       "    <tr>\n",
       "      <th>104</th>\n",
       "      <td>today</td>\n",
       "      <td>35</td>\n",
       "      <td>5</td>\n",
       "      <td>True</td>\n",
       "    </tr>\n",
       "    <tr>\n",
       "      <th>850</th>\n",
       "      <td>term</td>\n",
       "      <td>34</td>\n",
       "      <td>4</td>\n",
       "      <td>True</td>\n",
       "    </tr>\n",
       "    <tr>\n",
       "      <th>446</th>\n",
       "      <td>collect</td>\n",
       "      <td>34</td>\n",
       "      <td>7</td>\n",
       "      <td>True</td>\n",
       "    </tr>\n",
       "    <tr>\n",
       "      <th>392</th>\n",
       "      <td>see</td>\n",
       "      <td>33</td>\n",
       "      <td>3</td>\n",
       "      <td>True</td>\n",
       "    </tr>\n",
       "    <tr>\n",
       "      <th>180</th>\n",
       "      <td>app</td>\n",
       "      <td>32</td>\n",
       "      <td>3</td>\n",
       "      <td>False</td>\n",
       "    </tr>\n",
       "    <tr>\n",
       "      <th>731</th>\n",
       "      <td>around</td>\n",
       "      <td>31</td>\n",
       "      <td>6</td>\n",
       "      <td>True</td>\n",
       "    </tr>\n",
       "  </tbody>\n",
       "</table>\n",
       "</div>"
      ],
      "text/plain": [
       "            word  count  length  is_word\n",
       "0     zuckerberg    231      10    False\n",
       "66      facebook    211       8    False\n",
       "146       people    167       6     True\n",
       "496      senator    150       7     True\n",
       "42          data    126       4     True\n",
       "684        think    107       5     True\n",
       "184  information    103      11     True\n",
       "106         make     96       4     True\n",
       "40           use     89       3     True\n",
       "341         want     87       4     True\n",
       "232      service     72       7     True\n",
       "601        would     71       5     True\n",
       "169          get     70       3     True\n",
       "134        thank     66       5     True\n",
       "112         well     65       4     True\n",
       "199          say     64       3     True\n",
       "280         take     62       4     True\n",
       "218        thats     58       5     True\n",
       "266         dont     55       4     True\n",
       "109         know     54       4     True\n",
       "187        users     54       5    False\n",
       "433      content     54       7     True\n",
       "489      control     52       7     True\n",
       "189      company     50       7     True\n",
       "39       privacy     50       7     True\n",
       "623        share     48       5     True\n",
       "98          time     48       4     True\n",
       "864          yes     48       3     True\n",
       "190    cambridge     47       9    False\n",
       "91      question     47       8     True\n",
       "107         sure     46       4     True\n",
       "63          like     45       4     True\n",
       "222          one     45       3     True\n",
       "191    analytica     44       9    False\n",
       "311        right     42       5     True\n",
       "299   understand     41      10     True\n",
       "308         need     38       4     True\n",
       "84      chairman     38       8     True\n",
       "225         work     38       4     True\n",
       "427          ads     36       3    False\n",
       "104        today     35       5     True\n",
       "850         term     34       4     True\n",
       "446      collect     34       7     True\n",
       "392          see     33       3     True\n",
       "180          app     32       3    False\n",
       "731       around     31       6     True"
      ]
     },
     "execution_count": 73,
     "metadata": {},
     "output_type": "execute_result"
    }
   ],
   "source": [
    "filtered_words_df.loc[(filtered_words_df[\"count\"] > 30) & (filtered_words_df[\"length\"] > 2)].sort_values(by=[\"count\"], ascending=False)"
   ]
  },
  {
   "cell_type": "code",
   "execution_count": 74,
   "metadata": {},
   "outputs": [
    {
     "data": {
      "text/html": [
       "<div>\n",
       "<style scoped>\n",
       "    .dataframe tbody tr th:only-of-type {\n",
       "        vertical-align: middle;\n",
       "    }\n",
       "\n",
       "    .dataframe tbody tr th {\n",
       "        vertical-align: top;\n",
       "    }\n",
       "\n",
       "    .dataframe thead th {\n",
       "        text-align: right;\n",
       "    }\n",
       "</style>\n",
       "<table border=\"1\" class=\"dataframe\">\n",
       "  <thead>\n",
       "    <tr style=\"text-align: right;\">\n",
       "      <th></th>\n",
       "      <th>word</th>\n",
       "      <th>count</th>\n",
       "      <th>length</th>\n",
       "      <th>is_word</th>\n",
       "    </tr>\n",
       "  </thead>\n",
       "  <tbody>\n",
       "    <tr>\n",
       "      <th>0</th>\n",
       "      <td>zuckerberg</td>\n",
       "      <td>231</td>\n",
       "      <td>10</td>\n",
       "      <td>False</td>\n",
       "    </tr>\n",
       "    <tr>\n",
       "      <th>66</th>\n",
       "      <td>facebook</td>\n",
       "      <td>211</td>\n",
       "      <td>8</td>\n",
       "      <td>False</td>\n",
       "    </tr>\n",
       "    <tr>\n",
       "      <th>187</th>\n",
       "      <td>users</td>\n",
       "      <td>54</td>\n",
       "      <td>5</td>\n",
       "      <td>False</td>\n",
       "    </tr>\n",
       "    <tr>\n",
       "      <th>190</th>\n",
       "      <td>cambridge</td>\n",
       "      <td>47</td>\n",
       "      <td>9</td>\n",
       "      <td>False</td>\n",
       "    </tr>\n",
       "    <tr>\n",
       "      <th>191</th>\n",
       "      <td>analytica</td>\n",
       "      <td>44</td>\n",
       "      <td>9</td>\n",
       "      <td>False</td>\n",
       "    </tr>\n",
       "    <tr>\n",
       "      <th>427</th>\n",
       "      <td>ads</td>\n",
       "      <td>36</td>\n",
       "      <td>3</td>\n",
       "      <td>False</td>\n",
       "    </tr>\n",
       "    <tr>\n",
       "      <th>180</th>\n",
       "      <td>app</td>\n",
       "      <td>32</td>\n",
       "      <td>3</td>\n",
       "      <td>False</td>\n",
       "    </tr>\n",
       "  </tbody>\n",
       "</table>\n",
       "</div>"
      ],
      "text/plain": [
       "           word  count  length  is_word\n",
       "0    zuckerberg    231      10    False\n",
       "66     facebook    211       8    False\n",
       "187       users     54       5    False\n",
       "190   cambridge     47       9    False\n",
       "191   analytica     44       9    False\n",
       "427         ads     36       3    False\n",
       "180         app     32       3    False"
      ]
     },
     "execution_count": 74,
     "metadata": {},
     "output_type": "execute_result"
    }
   ],
   "source": [
    "filtered_words_df.loc[(filtered_words_df[\"is_word\"] == False) & (filtered_words_df[\"length\"] > 2) & (filtered_words_df[\"count\"] > 30)].sort_values(by=\"count\", ascending=False)\n"
   ]
  },
  {
   "cell_type": "code",
   "execution_count": 75,
   "metadata": {},
   "outputs": [
    {
     "data": {
      "text/html": [
       "<div>\n",
       "<style scoped>\n",
       "    .dataframe tbody tr th:only-of-type {\n",
       "        vertical-align: middle;\n",
       "    }\n",
       "\n",
       "    .dataframe tbody tr th {\n",
       "        vertical-align: top;\n",
       "    }\n",
       "\n",
       "    .dataframe thead th {\n",
       "        text-align: right;\n",
       "    }\n",
       "</style>\n",
       "<table border=\"1\" class=\"dataframe\">\n",
       "  <thead>\n",
       "    <tr style=\"text-align: right;\">\n",
       "      <th></th>\n",
       "      <th>word</th>\n",
       "      <th>count</th>\n",
       "      <th>length</th>\n",
       "      <th>is_word</th>\n",
       "    </tr>\n",
       "  </thead>\n",
       "  <tbody>\n",
       "    <tr>\n",
       "      <th>0</th>\n",
       "      <td>zuckerberg</td>\n",
       "      <td>231</td>\n",
       "      <td>10</td>\n",
       "      <td>False</td>\n",
       "    </tr>\n",
       "    <tr>\n",
       "      <th>66</th>\n",
       "      <td>facebook</td>\n",
       "      <td>211</td>\n",
       "      <td>8</td>\n",
       "      <td>False</td>\n",
       "    </tr>\n",
       "    <tr>\n",
       "      <th>146</th>\n",
       "      <td>people</td>\n",
       "      <td>167</td>\n",
       "      <td>6</td>\n",
       "      <td>True</td>\n",
       "    </tr>\n",
       "    <tr>\n",
       "      <th>496</th>\n",
       "      <td>senator</td>\n",
       "      <td>150</td>\n",
       "      <td>7</td>\n",
       "      <td>True</td>\n",
       "    </tr>\n",
       "    <tr>\n",
       "      <th>184</th>\n",
       "      <td>information</td>\n",
       "      <td>103</td>\n",
       "      <td>11</td>\n",
       "      <td>True</td>\n",
       "    </tr>\n",
       "    <tr>\n",
       "      <th>232</th>\n",
       "      <td>service</td>\n",
       "      <td>72</td>\n",
       "      <td>7</td>\n",
       "      <td>True</td>\n",
       "    </tr>\n",
       "    <tr>\n",
       "      <th>433</th>\n",
       "      <td>content</td>\n",
       "      <td>54</td>\n",
       "      <td>7</td>\n",
       "      <td>True</td>\n",
       "    </tr>\n",
       "    <tr>\n",
       "      <th>489</th>\n",
       "      <td>control</td>\n",
       "      <td>52</td>\n",
       "      <td>7</td>\n",
       "      <td>True</td>\n",
       "    </tr>\n",
       "    <tr>\n",
       "      <th>189</th>\n",
       "      <td>company</td>\n",
       "      <td>50</td>\n",
       "      <td>7</td>\n",
       "      <td>True</td>\n",
       "    </tr>\n",
       "    <tr>\n",
       "      <th>39</th>\n",
       "      <td>privacy</td>\n",
       "      <td>50</td>\n",
       "      <td>7</td>\n",
       "      <td>True</td>\n",
       "    </tr>\n",
       "    <tr>\n",
       "      <th>190</th>\n",
       "      <td>cambridge</td>\n",
       "      <td>47</td>\n",
       "      <td>9</td>\n",
       "      <td>False</td>\n",
       "    </tr>\n",
       "    <tr>\n",
       "      <th>91</th>\n",
       "      <td>question</td>\n",
       "      <td>47</td>\n",
       "      <td>8</td>\n",
       "      <td>True</td>\n",
       "    </tr>\n",
       "    <tr>\n",
       "      <th>191</th>\n",
       "      <td>analytica</td>\n",
       "      <td>44</td>\n",
       "      <td>9</td>\n",
       "      <td>False</td>\n",
       "    </tr>\n",
       "    <tr>\n",
       "      <th>299</th>\n",
       "      <td>understand</td>\n",
       "      <td>41</td>\n",
       "      <td>10</td>\n",
       "      <td>True</td>\n",
       "    </tr>\n",
       "    <tr>\n",
       "      <th>84</th>\n",
       "      <td>chairman</td>\n",
       "      <td>38</td>\n",
       "      <td>8</td>\n",
       "      <td>True</td>\n",
       "    </tr>\n",
       "    <tr>\n",
       "      <th>446</th>\n",
       "      <td>collect</td>\n",
       "      <td>34</td>\n",
       "      <td>7</td>\n",
       "      <td>True</td>\n",
       "    </tr>\n",
       "    <tr>\n",
       "      <th>731</th>\n",
       "      <td>around</td>\n",
       "      <td>31</td>\n",
       "      <td>6</td>\n",
       "      <td>True</td>\n",
       "    </tr>\n",
       "  </tbody>\n",
       "</table>\n",
       "</div>"
      ],
      "text/plain": [
       "            word  count  length  is_word\n",
       "0     zuckerberg    231      10    False\n",
       "66      facebook    211       8    False\n",
       "146       people    167       6     True\n",
       "496      senator    150       7     True\n",
       "184  information    103      11     True\n",
       "232      service     72       7     True\n",
       "433      content     54       7     True\n",
       "489      control     52       7     True\n",
       "189      company     50       7     True\n",
       "39       privacy     50       7     True\n",
       "190    cambridge     47       9    False\n",
       "91      question     47       8     True\n",
       "191    analytica     44       9    False\n",
       "299   understand     41      10     True\n",
       "84      chairman     38       8     True\n",
       "446      collect     34       7     True\n",
       "731       around     31       6     True"
      ]
     },
     "execution_count": 75,
     "metadata": {},
     "output_type": "execute_result"
    }
   ],
   "source": [
    "filtered_words_df.loc[(filtered_words_df[\"count\"] > 30) & (filtered_words_df[\"length\"] > 5)].sort_values(by=\"count\", ascending=False)\n"
   ]
  },
  {
   "cell_type": "markdown",
   "metadata": {},
   "source": [
    "## Text Summarization"
   ]
  },
  {
   "cell_type": "code",
   "execution_count": 76,
   "metadata": {},
   "outputs": [],
   "source": [
    "def get_word_freq(corpus):\n",
    "    word_freq_matrix = {}\n",
    "    \n",
    "    for sentence in corpus:\n",
    "        word_frequency = {}\n",
    "\n",
    "        words = txt.word_tokenizer(sentence)\n",
    "        n_words = len(words)\n",
    "        words = txt.word_lemmatizer(words)\n",
    "\n",
    "        for word in words:\n",
    "            if word not in txt.stops:\n",
    "                if word in word_frequency.keys():\n",
    "                    word_frequency[word] += 1\n",
    "                else:\n",
    "                    word_frequency[word] = 1\n",
    "            \n",
    "        word_freq_matrix[hash(sentence)]  = word_frequency\n",
    "    \n",
    "    return word_freq_matrix"
   ]
  },
  {
   "cell_type": "code",
   "execution_count": 77,
   "metadata": {},
   "outputs": [],
   "source": [
    "def get_docs_per_word(word_freq_matrix):\n",
    "    docs_per_word = {}\n",
    "    \n",
    "    for key, word_frequency in word_freq_matrix.items():\n",
    "        for word, count in word_frequency.items():\n",
    "            if word in docs_per_word:\n",
    "                docs_per_word[word] += 1\n",
    "            else:\n",
    "                docs_per_word[word] = 1\n",
    "    \n",
    "    return docs_per_word"
   ]
  },
  {
   "cell_type": "code",
   "execution_count": 78,
   "metadata": {},
   "outputs": [],
   "source": [
    "def get_tf_matrix(word_freq_matrix):\n",
    "    tf_matrix = {}\n",
    "    \n",
    "    for key, word_frequency in word_freq_matrix.items():\n",
    "        tf = {}\n",
    "        \n",
    "        n_words = len(word_frequency)\n",
    "        for word, count in word_frequency.items():\n",
    "            tf[word] = count/n_words\n",
    "            \n",
    "        tf_matrix[key] = tf\n",
    "    \n",
    "    return tf_matrix"
   ]
  },
  {
   "cell_type": "code",
   "execution_count": 79,
   "metadata": {},
   "outputs": [],
   "source": [
    "def get_idf_matrix(word_freq_matrix, docs_per_word, n_docs):\n",
    "    idf_matrix = {}\n",
    "    \n",
    "    for key, word_frequency in word_freq_matrix.items():\n",
    "        idf = {}\n",
    "        \n",
    "        for word in word_frequency.keys():\n",
    "            idf[word] = math.log10(n_docs/(float(docs_per_word[word]) + 1))\n",
    "        \n",
    "        idf_matrix[key] = idf\n",
    "    \n",
    "    return idf_matrix"
   ]
  },
  {
   "cell_type": "code",
   "execution_count": 80,
   "metadata": {},
   "outputs": [],
   "source": [
    "def get_tf_idf_matrix(tf_matrix, idf_matrix):\n",
    "    tf_idf_matrix = {}\n",
    "\n",
    "    for (key1, word_freq1), (key2, word_freq2) in zip(tf_matrix.items(), idf_matrix.items()):\n",
    "\n",
    "        tf_idf = {}\n",
    "\n",
    "        for (word1, tf), (word2, idf) in zip(word_freq1.items(),\n",
    "                                                    word_freq2.items()):\n",
    "            tf_idf[word1] = float(tf * idf)\n",
    "\n",
    "        tf_idf_matrix[key1] = tf_idf\n",
    "    \n",
    "    return tf_idf_matrix"
   ]
  },
  {
   "cell_type": "code",
   "execution_count": 81,
   "metadata": {},
   "outputs": [],
   "source": [
    "def get_sentence_score(tf_idf_matrix):\n",
    "    sentence_score = {}\n",
    "    \n",
    "    for key, val_dict in tf_idf_matrix.items():\n",
    "        score = 0\n",
    "        for word, tf_idf in val_dict.items():\n",
    "            score += tf_idf\n",
    "            \n",
    "        sentence_score[key] = score\n",
    "    \n",
    "    #print(sentence_score)\n",
    "    return sentence_score"
   ]
  },
  {
   "cell_type": "code",
   "execution_count": 82,
   "metadata": {},
   "outputs": [],
   "source": [
    "def get_summary(n_sentences_to_retain, corpus):\n",
    "    \n",
    "    n_docs = len(corpus)\n",
    "    \n",
    "    word_freq_matrix = get_word_freq(corpus)\n",
    "    docs_per_word = get_docs_per_word(word_freq_matrix)\n",
    "\n",
    "    tf_matrix = get_tf_matrix(word_freq_matrix)\n",
    "    idf_matrix = get_idf_matrix(word_freq_matrix, docs_per_word, n_docs)\n",
    "    tf_idf_matrix = get_tf_idf_matrix(tf_matrix, idf_matrix)\n",
    "\n",
    "    sentence_scores = get_sentence_score(tf_idf_matrix)\n",
    "\n",
    "    top_n = heapq.nlargest(n_sentences_to_retain, sentence_scores, key=sentence_scores.get)\n",
    "    #print(top_n)\n",
    "    \n",
    "    summary = []\n",
    "    for sentence in corpus:\n",
    "        if hash(sentence) in top_n:\n",
    "            #print(sentence_scores[hash(sentence)])\n",
    "            summary.append(sentence)\n",
    "            #print(sentence + '\\n_______________')\n",
    "        else:\n",
    "            pass\n",
    "    \n",
    "    return summary"
   ]
  },
  {
   "cell_type": "code",
   "execution_count": 37,
   "metadata": {},
   "outputs": [],
   "source": [
    "def get_percentage_to_retain():\n",
    "    try:\n",
    "        return int(input(\"Enter Percentage to Retain(0-100): \"))\n",
    "    except Exception as e:\n",
    "        print(e)\n",
    "        return get_percentage_to_retain()"
   ]
  },
  {
   "cell_type": "code",
   "execution_count": 38,
   "metadata": {},
   "outputs": [
    {
     "name": "stdout",
     "output_type": "stream",
     "text": [
      "Enter Percentage to Retain(0-100): santa\n",
      "invalid literal for int() with base 10: 'santa'\n",
      "Enter Percentage to Retain(0-100): 20\n"
     ]
    }
   ],
   "source": [
    "percentage_to_retain = get_percentage_to_retain()"
   ]
  },
  {
   "cell_type": "code",
   "execution_count": 39,
   "metadata": {},
   "outputs": [],
   "source": [
    "n_sentences_to_retain = int((percentage_to_retain * len(corpus))/100)"
   ]
  },
  {
   "cell_type": "code",
   "execution_count": 40,
   "metadata": {},
   "outputs": [
    {
     "ename": "NameError",
     "evalue": "name 'get_summary' is not defined",
     "output_type": "error",
     "traceback": [
      "\u001b[0;31m---------------------------------------------------------------------------\u001b[0m",
      "\u001b[0;31mNameError\u001b[0m                                 Traceback (most recent call last)",
      "\u001b[0;32m/var/folders/ps/gq9jxksd3h53z2yr045tv0jw0000gp/T/ipykernel_39666/1403304897.py\u001b[0m in \u001b[0;36m<module>\u001b[0;34m\u001b[0m\n\u001b[0;32m----> 1\u001b[0;31m \u001b[0msummary\u001b[0m \u001b[0;34m=\u001b[0m \u001b[0mget_summary\u001b[0m\u001b[0;34m(\u001b[0m\u001b[0mn_sentences_to_retain\u001b[0m\u001b[0;34m,\u001b[0m \u001b[0mcorpus\u001b[0m\u001b[0;34m)\u001b[0m\u001b[0;34m\u001b[0m\u001b[0;34m\u001b[0m\u001b[0m\n\u001b[0m",
      "\u001b[0;31mNameError\u001b[0m: name 'get_summary' is not defined"
     ]
    }
   ],
   "source": [
    "summary = get_summary(n_sentences_to_retain, corpus)"
   ]
  },
  {
   "cell_type": "code",
   "execution_count": null,
   "metadata": {},
   "outputs": [],
   "source": []
  },
  {
   "cell_type": "code",
   "execution_count": null,
   "metadata": {
    "scrolled": false
   },
   "outputs": [],
   "source": [
    "print(\" \".join(summary))"
   ]
  },
  {
   "cell_type": "code",
   "execution_count": null,
   "metadata": {},
   "outputs": [],
   "source": []
  }
 ],
 "metadata": {
  "kernelspec": {
   "display_name": "nlp",
   "language": "python",
   "name": "nlp"
  },
  "language_info": {
   "codemirror_mode": {
    "name": "ipython",
    "version": 3
   },
   "file_extension": ".py",
   "mimetype": "text/x-python",
   "name": "python",
   "nbconvert_exporter": "python",
   "pygments_lexer": "ipython3",
   "version": "3.9.7"
  }
 },
 "nbformat": 4,
 "nbformat_minor": 2
}
